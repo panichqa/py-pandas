{
 "cells": [
  {
   "cell_type": "markdown",
   "source": [
    "# Pandas"
   ],
   "metadata": {
    "collapsed": false
   }
  },
  {
   "cell_type": "markdown",
   "source": [
    "## Task 1\n",
    "\n",
    "You should import the necessary libraries. You will use `numpy` and `pandas` libraries.\n",
    "\n",
    "\n",
    "> Don't forget to import `numpy`, and `pandas` in short form."
   ],
   "metadata": {
    "collapsed": false
   }
  },
  {
   "cell_type": "code",
   "metadata": {
    "collapsed": true,
    "jupyter": {
     "is_executing": true
    }
   },
   "source": [
    "import numpy as np\n",
    "import pandas as pd"
   ],
   "outputs": [],
   "execution_count": null
  },
  {
   "cell_type": "markdown",
   "source": [
    "## Task 2\n",
    "\n",
    "Create a `DataFrame` from the given dictionary `data`."
   ],
   "metadata": {
    "collapsed": false
   }
  },
  {
   "cell_type": "code",
   "source": [
    "import numpy as np\n",
    "import pandas as pd\n",
    "\n",
    "data = {\n",
    "    \"Name\": [\"John\", \"Emily\", \"Ryan\"],\n",
    "    \"Age\": [16, 28, 22],\n",
    "    \"City\": [\"New York\", \"Los Angeles\", \"Chicago\"],\n",
    "}\n",
    "\n",
    "df = pd.DataFrame(data)"
   ],
   "metadata": {
    "collapsed": false,
    "ExecuteTime": {
     "end_time": "2024-11-10T10:49:27.292910Z",
     "start_time": "2024-11-10T10:49:13.854750Z"
    }
   },
   "outputs": [],
   "execution_count": 2
  },
  {
   "cell_type": "markdown",
   "source": [
    "## Task 3\n",
    "\n",
    "In this task you should complete the following steps:"
   ],
   "metadata": {
    "collapsed": false
   }
  },
  {
   "cell_type": "markdown",
   "source": [
    "### Task 3.1\n",
    "Display all data for `Age` column for the DataFrame you created in the previous task."
   ],
   "metadata": {
    "collapsed": false
   }
  },
  {
   "cell_type": "code",
   "source": "df[\"Age\"]\n",
   "metadata": {
    "collapsed": false,
    "ExecuteTime": {
     "end_time": "2024-11-10T10:53:13.660786Z",
     "start_time": "2024-11-10T10:53:13.649424Z"
    }
   },
   "outputs": [
    {
     "data": {
      "text/plain": [
       "0    16\n",
       "1    28\n",
       "2    22\n",
       "Name: Age, dtype: int64"
      ]
     },
     "execution_count": 3,
     "metadata": {},
     "output_type": "execute_result"
    }
   ],
   "execution_count": 3
  },
  {
   "cell_type": "markdown",
   "source": [
    "### Task 3.2\n",
    "\n",
    "Add `Salary` column to the `DataFrame` with the values `[50000, 60000, 45000]`."
   ],
   "metadata": {
    "collapsed": false
   }
  },
  {
   "cell_type": "code",
   "source": "df[\"Salary\"] = [50000, 60000, 45000]\n",
   "metadata": {
    "collapsed": false,
    "ExecuteTime": {
     "end_time": "2024-11-10T10:53:50.039525Z",
     "start_time": "2024-11-10T10:53:50.035755Z"
    }
   },
   "outputs": [],
   "execution_count": 5
  },
  {
   "cell_type": "markdown",
   "source": [
    "### Task 3.3\n",
    "\n",
    "Filter the `DataFrame` to show only the rows with the `Age` greater than 18."
   ],
   "metadata": {
    "collapsed": false
   }
  },
  {
   "cell_type": "code",
   "source": "df_filtered = df[df[\"Age\"] > 18]",
   "metadata": {
    "collapsed": false,
    "ExecuteTime": {
     "end_time": "2024-11-10T10:54:42.306087Z",
     "start_time": "2024-11-10T10:54:42.300714Z"
    }
   },
   "outputs": [],
   "execution_count": 6
  },
  {
   "cell_type": "markdown",
   "source": [
    "## Task 4\n",
    "\n",
    "In this task you should complete the following steps:"
   ],
   "metadata": {
    "collapsed": false
   }
  },
  {
   "cell_type": "markdown",
   "source": [
    "### Task 4.1\n",
    "\n",
    "Add new calculated field `Birth year`;"
   ],
   "metadata": {
    "collapsed": false
   }
  },
  {
   "cell_type": "code",
   "source": [
    "current_year = 2024\n",
    "df[\"Birth year\"] = current_year - df[\"Age\"]"
   ],
   "metadata": {
    "collapsed": false,
    "ExecuteTime": {
     "end_time": "2024-11-10T10:55:21.977604Z",
     "start_time": "2024-11-10T10:55:21.972930Z"
    }
   },
   "outputs": [],
   "execution_count": 7
  },
  {
   "cell_type": "markdown",
   "source": [
    "### Task 4.2\n",
    "\n",
    "Add new calculated field `Average age`."
   ],
   "metadata": {
    "collapsed": false
   }
  },
  {
   "cell_type": "code",
   "source": [
    "current_year = 2024\n",
    "df[\"Birth year\"] = current_year - df[\"Age\"]"
   ],
   "metadata": {
    "collapsed": false,
    "ExecuteTime": {
     "end_time": "2024-11-10T10:56:06.133943Z",
     "start_time": "2024-11-10T10:56:06.130228Z"
    }
   },
   "outputs": [],
   "execution_count": 8
  },
  {
   "cell_type": "markdown",
   "source": [
    "### Task 4.3\n",
    "\n",
    "Calculate absolute difference between `Age` and `Average age`."
   ],
   "metadata": {
    "collapsed": false
   }
  },
  {
   "cell_type": "code",
   "source": [
    "average_age = df[\"Age\"].mean()\n",
    "df[\"Average age\"] = average_age\n",
    "\n",
    "df[\"Age Difference\"] = abs(df[\"Age\"] - df[\"Average age\"])"
   ],
   "metadata": {
    "collapsed": false,
    "ExecuteTime": {
     "end_time": "2024-11-10T10:58:36.155226Z",
     "start_time": "2024-11-10T10:58:36.148880Z"
    }
   },
   "outputs": [],
   "execution_count": 10
  },
  {
   "cell_type": "markdown",
   "source": [
    "## Task 5\n",
    "\n",
    "Complete the following tasks described below."
   ],
   "metadata": {
    "collapsed": false
   }
  },
  {
   "cell_type": "markdown",
   "source": [
    "### Task 5.1\n",
    "\n",
    "You have two dictionaries `data1` and `data2`. Create two `DataFrame` objects from these dictionaries. Then, `concatenate`, and `merge` these two `DataFrame` objects into one `DataFrame` object, and see the difference."
   ],
   "metadata": {
    "collapsed": false
   }
  },
  {
   "cell_type": "code",
   "source": [
    "# Data\n",
    "data1 = {'Name': ['John', 'Emily', 'Ryan'],\n",
    "         'Age': [25, 28, 22]}\n",
    "data2 = {'Name': ['Emily', 'Ryan', 'Mike'],\n",
    "         'City': ['Los Angeles', 'Chicago', 'Houston']}\n",
    "\n",
    "# create DataFrame objects\n",
    "df1 = pd.DataFrame(data1)\n",
    "df2 = pd.DataFrame(data2)"
   ],
   "metadata": {
    "collapsed": false,
    "ExecuteTime": {
     "end_time": "2024-11-10T11:01:02.180531Z",
     "start_time": "2024-11-10T11:01:02.175573Z"
    }
   },
   "outputs": [],
   "execution_count": 13
  },
  {
   "cell_type": "code",
   "source": [
    "# merge\n",
    "concat_df = pd.concat([df1, df2], axis=0, ignore_index=True)\n",
    "print(\"Concatenated DataFrame:\")\n",
    "print(concat_df)"
   ],
   "metadata": {
    "collapsed": false,
    "ExecuteTime": {
     "end_time": "2024-11-10T11:01:04.141250Z",
     "start_time": "2024-11-10T11:01:04.132148Z"
    }
   },
   "outputs": [
    {
     "name": "stdout",
     "output_type": "stream",
     "text": [
      "Concatenated DataFrame:\n",
      "    Name   Age         City\n",
      "0   John  25.0          NaN\n",
      "1  Emily  28.0          NaN\n",
      "2   Ryan  22.0          NaN\n",
      "3  Emily   NaN  Los Angeles\n",
      "4   Ryan   NaN      Chicago\n",
      "5   Mike   NaN      Houston\n"
     ]
    }
   ],
   "execution_count": 14
  },
  {
   "cell_type": "code",
   "source": [
    "# concatenate\n",
    "merge_df = pd.merge(df1, df2, on='Name', how='inner')\n"
   ],
   "metadata": {
    "collapsed": false,
    "ExecuteTime": {
     "end_time": "2024-11-10T11:01:06.524753Z",
     "start_time": "2024-11-10T11:01:06.518249Z"
    }
   },
   "outputs": [],
   "execution_count": 15
  },
  {
   "cell_type": "markdown",
   "source": [
    "### Task 5.2\n",
    "\n",
    "You have two `Series` objects `s1` and `s2`. Make default mathematical operations on these two `Series` objects. Such as `+`, `-`, `*`, `/`, `**`, `//`, `%`. Also, filter `s1` and print only even numbers, and `s2` only with odd numbers.\n"
   ],
   "metadata": {
    "collapsed": false
   }
  },
  {
   "cell_type": "code",
   "source": [
    "s1 = pd.Series([1, 2, 3, 4, 5])\n",
    "s2 = pd.Series([6, 7, 8, 9, 10])"
   ],
   "metadata": {
    "collapsed": false,
    "ExecuteTime": {
     "end_time": "2024-11-10T11:02:00.912041Z",
     "start_time": "2024-11-10T11:02:00.895386Z"
    }
   },
   "outputs": [],
   "execution_count": 16
  },
  {
   "cell_type": "code",
   "source": [
    "# use + operator here\n",
    "print(\"Addition (s1 + s2):\")\n",
    "print(s1 + s2)"
   ],
   "metadata": {
    "collapsed": false,
    "ExecuteTime": {
     "end_time": "2024-11-10T11:02:01.712376Z",
     "start_time": "2024-11-10T11:02:01.708015Z"
    }
   },
   "outputs": [
    {
     "name": "stdout",
     "output_type": "stream",
     "text": [
      "Addition (s1 + s2):\n",
      "0     7\n",
      "1     9\n",
      "2    11\n",
      "3    13\n",
      "4    15\n",
      "dtype: int64\n"
     ]
    }
   ],
   "execution_count": 17
  },
  {
   "cell_type": "code",
   "source": [
    "# use - operator here\n",
    "print(\"\\nSubtraction (s1 - s2):\")\n",
    "print(s1 - s2)"
   ],
   "metadata": {
    "collapsed": false,
    "ExecuteTime": {
     "end_time": "2024-11-10T11:02:17.862370Z",
     "start_time": "2024-11-10T11:02:17.857593Z"
    }
   },
   "outputs": [
    {
     "name": "stdout",
     "output_type": "stream",
     "text": [
      "\n",
      "Subtraction (s1 - s2):\n",
      "0   -5\n",
      "1   -5\n",
      "2   -5\n",
      "3   -5\n",
      "4   -5\n",
      "dtype: int64\n"
     ]
    }
   ],
   "execution_count": 18
  },
  {
   "cell_type": "code",
   "source": [
    "# use * operator here\n",
    "print(\"\\nMultiplication (s1 * s2):\")\n",
    "print(s1 * s2)"
   ],
   "metadata": {
    "collapsed": false,
    "ExecuteTime": {
     "end_time": "2024-11-10T11:02:19.883556Z",
     "start_time": "2024-11-10T11:02:19.877392Z"
    }
   },
   "outputs": [
    {
     "name": "stdout",
     "output_type": "stream",
     "text": [
      "\n",
      "Multiplication (s1 * s2):\n",
      "0     6\n",
      "1    14\n",
      "2    24\n",
      "3    36\n",
      "4    50\n",
      "dtype: int64\n"
     ]
    }
   ],
   "execution_count": 19
  },
  {
   "cell_type": "code",
   "source": [
    "print(\"\\nDivision (s1 / s2):\")\n",
    "print(s1 / s2)"
   ],
   "metadata": {
    "collapsed": false,
    "ExecuteTime": {
     "end_time": "2024-11-10T11:03:02.938985Z",
     "start_time": "2024-11-10T11:03:02.932509Z"
    }
   },
   "outputs": [
    {
     "name": "stdout",
     "output_type": "stream",
     "text": [
      "\n",
      "Division (s1 / s2):\n",
      "0    0.166667\n",
      "1    0.285714\n",
      "2    0.375000\n",
      "3    0.444444\n",
      "4    0.500000\n",
      "dtype: float64\n"
     ]
    }
   ],
   "execution_count": 20
  },
  {
   "cell_type": "code",
   "source": [
    "# use ** operator here\n",
    "print(\"\\nExponentiation (s1 ** s2):\")\n",
    "print(s1 ** s2)"
   ],
   "metadata": {
    "collapsed": false,
    "ExecuteTime": {
     "end_time": "2024-11-10T11:03:04.567688Z",
     "start_time": "2024-11-10T11:03:04.561972Z"
    }
   },
   "outputs": [
    {
     "name": "stdout",
     "output_type": "stream",
     "text": [
      "\n",
      "Exponentiation (s1 ** s2):\n",
      "0          1\n",
      "1        128\n",
      "2       6561\n",
      "3     262144\n",
      "4    9765625\n",
      "dtype: int64\n"
     ]
    }
   ],
   "execution_count": 21
  },
  {
   "cell_type": "code",
   "source": [
    "# use // operator here\n",
    "print(\"\\nFloor Division (s1 // s2):\")\n",
    "print(s1 // s2)"
   ],
   "metadata": {
    "collapsed": false,
    "ExecuteTime": {
     "end_time": "2024-11-10T11:03:06.058396Z",
     "start_time": "2024-11-10T11:03:06.052671Z"
    }
   },
   "outputs": [
    {
     "name": "stdout",
     "output_type": "stream",
     "text": [
      "\n",
      "Floor Division (s1 // s2):\n",
      "0    0\n",
      "1    0\n",
      "2    0\n",
      "3    0\n",
      "4    0\n",
      "dtype: int64\n"
     ]
    }
   ],
   "execution_count": 22
  },
  {
   "cell_type": "code",
   "source": [
    "# use % operator here\n",
    "print(\"\\nModulus (s1 % s2):\")\n",
    "print(s1 % s2)"
   ],
   "metadata": {
    "collapsed": false,
    "ExecuteTime": {
     "end_time": "2024-11-10T11:03:07.457794Z",
     "start_time": "2024-11-10T11:03:07.452217Z"
    }
   },
   "outputs": [
    {
     "name": "stdout",
     "output_type": "stream",
     "text": [
      "\n",
      "Modulus (s1 % s2):\n",
      "0    1\n",
      "1    2\n",
      "2    3\n",
      "3    4\n",
      "4    5\n",
      "dtype: int64\n"
     ]
    }
   ],
   "execution_count": 23
  },
  {
   "cell_type": "code",
   "source": [
    "# filter s1 here\n",
    "even_s1 = s1[s1 % 2 == 0]\n",
    "print(\"\\nFiltered s1 (even numbers):\")\n",
    "print(even_s1)"
   ],
   "metadata": {
    "collapsed": false,
    "ExecuteTime": {
     "end_time": "2024-11-10T11:03:18.458597Z",
     "start_time": "2024-11-10T11:03:18.453215Z"
    }
   },
   "outputs": [
    {
     "name": "stdout",
     "output_type": "stream",
     "text": [
      "\n",
      "Filtered s1 (even numbers):\n",
      "1    2\n",
      "3    4\n",
      "dtype: int64\n"
     ]
    }
   ],
   "execution_count": 24
  },
  {
   "cell_type": "code",
   "source": [
    "# filter s2 here\n",
    "odd_s2 = s2[s2 % 2 != 0]\n",
    "print(\"\\nFiltered s2 (odd numbers):\")\n",
    "print(odd_s2)"
   ],
   "metadata": {
    "collapsed": false,
    "ExecuteTime": {
     "end_time": "2024-11-10T11:03:26.621694Z",
     "start_time": "2024-11-10T11:03:26.616122Z"
    }
   },
   "outputs": [
    {
     "name": "stdout",
     "output_type": "stream",
     "text": [
      "\n",
      "Filtered s2 (odd numbers):\n",
      "1    7\n",
      "3    9\n",
      "dtype: int64\n"
     ]
    }
   ],
   "execution_count": 25
  },
  {
   "cell_type": "markdown",
   "source": [
    "### Task 5.3\n",
    "\n",
    "You have a `Serias` object `s`. Make the following operations on this `Series` object:\n",
    "\n",
    "* make all words in uppercase without loops;\n",
    "* get length of each word without loops.\n"
   ],
   "metadata": {
    "collapsed": false
   }
  },
  {
   "cell_type": "code",
   "source": [
    "s = pd.Series([\"numpy\", \"pandas\", \"matplotlib\"])"
   ],
   "metadata": {
    "collapsed": false,
    "ExecuteTime": {
     "end_time": "2024-11-10T11:04:36.784529Z",
     "start_time": "2024-11-10T11:04:36.780105Z"
    }
   },
   "outputs": [],
   "execution_count": 26
  },
  {
   "cell_type": "code",
   "source": [
    "uppercase_s = s.str.upper()\n",
    "print(\"Uppercase words:\")\n",
    "print(uppercase_s)"
   ],
   "metadata": {
    "collapsed": false,
    "ExecuteTime": {
     "end_time": "2024-11-10T11:04:37.826180Z",
     "start_time": "2024-11-10T11:04:37.818780Z"
    }
   },
   "outputs": [
    {
     "name": "stdout",
     "output_type": "stream",
     "text": [
      "Uppercase words:\n",
      "0         NUMPY\n",
      "1        PANDAS\n",
      "2    MATPLOTLIB\n",
      "dtype: object\n"
     ]
    }
   ],
   "execution_count": 27
  },
  {
   "cell_type": "code",
   "source": [
    "word_lengths = s.str.len()\n",
    "print(\"\\nLength of each word:\")\n",
    "print(word_lengths)"
   ],
   "metadata": {
    "collapsed": false,
    "ExecuteTime": {
     "end_time": "2024-11-10T11:04:46.879787Z",
     "start_time": "2024-11-10T11:04:46.874622Z"
    }
   },
   "outputs": [
    {
     "name": "stdout",
     "output_type": "stream",
     "text": [
      "\n",
      "Length of each word:\n",
      "0     5\n",
      "1     6\n",
      "2    10\n",
      "dtype: int64\n"
     ]
    }
   ],
   "execution_count": 28
  },
  {
   "cell_type": "markdown",
   "source": [
    "## Task 6 Optional\n",
    "\n",
    "You have a large dataset consisting of a series of numbers. Your task is to calculate the moving average of the series using a window of `5` elements. The moving average is the average of a set of consecutive values in the series, where the window `slides` through the series to compute the average at each position. The goal is to calculate the moving average efficiently and accurately. Also, compare time performance of Python and Pandas solutions.\n",
    "\n",
    "> Please, note: If you get `nan` while calculating the moving average, you should remove it from the result. Pandas solution should take 1-2 lines of code.\n"
   ],
   "metadata": {
    "collapsed": false
   }
  },
  {
   "cell_type": "markdown",
   "source": [
    "### Python Solution\n",
    "\n",
    "In the Python solution, a large dataset is generated using random numbers. The moving average is computed by iterating over the dataset using a loop. At each position, a window of 5 elements is created, and the average is calculated by summing the values in the window and dividing by 5."
   ],
   "metadata": {
    "collapsed": false
   }
  },
  {
   "cell_type": "code",
   "source": [
    "import random\n",
    "\n",
    "def unknown_signature():\n",
    "    # Generate a large dataset\n",
    "    data = [random.randint(1, 100) for _ in range(10000000)]\n",
    "\n",
    "    # Calculate the moving average with a window of 5\n",
    "    moving_averages = []\n",
    "    for i in range(4, len(data)):\n",
    "        window = data[i - 4 : i + 1]\n",
    "        average = sum(window) / 5\n",
    "        moving_averages.append(average)\n",
    "    return moving_averages[:10]\n",
    "\n",
    "%time unknown_signature()"
   ],
   "metadata": {
    "collapsed": false,
    "ExecuteTime": {
     "end_time": "2024-11-10T11:06:15.292149Z",
     "start_time": "2024-11-10T11:06:03.774873Z"
    }
   },
   "outputs": [
    {
     "name": "stdout",
     "output_type": "stream",
     "text": [
      "CPU times: user 11.1 s, sys: 279 ms, total: 11.3 s\n",
      "Wall time: 11.5 s\n"
     ]
    },
    {
     "data": {
      "text/plain": [
       "[40.6, 44.4, 52.4, 56.8, 71.2, 61.8, 62.0, 55.2, 41.4, 32.4]"
      ]
     },
     "execution_count": 30,
     "metadata": {},
     "output_type": "execute_result"
    }
   ],
   "execution_count": 30
  },
  {
   "cell_type": "markdown",
   "source": [
    "### Solution using Pandas and Numpy\n"
   ],
   "metadata": {
    "collapsed": false
   }
  },
  {
   "cell_type": "code",
   "source": [
    "import pandas as pd\n",
    "import random\n",
    "\n",
    "def moving_average_pandas():\n",
    "    data = [random.randint(1, 100) for _ in range(10000000)]\n",
    "    series = pd.Series(data)\n",
    "    moving_averages = series.rolling(window=5).mean().dropna()\n",
    "    \n",
    "    return moving_averages[:10]\n",
    "print(moving_average_pandas())\n"
   ],
   "metadata": {
    "collapsed": false,
    "ExecuteTime": {
     "end_time": "2024-11-10T11:05:59.571754Z",
     "start_time": "2024-11-10T11:05:50.123652Z"
    }
   },
   "outputs": [
    {
     "name": "stdout",
     "output_type": "stream",
     "text": [
      "4     38.6\n",
      "5     50.2\n",
      "6     55.4\n",
      "7     50.4\n",
      "8     60.0\n",
      "9     67.2\n",
      "10    61.2\n",
      "11    63.8\n",
      "12    69.6\n",
      "13    70.6\n",
      "dtype: float64\n"
     ]
    }
   ],
   "execution_count": 29
  }
 ],
 "metadata": {
  "kernelspec": {
   "display_name": "Python 3",
   "language": "python",
   "name": "python3"
  },
  "language_info": {
   "codemirror_mode": {
    "name": "ipython",
    "version": 2
   },
   "file_extension": ".py",
   "mimetype": "text/x-python",
   "name": "python",
   "nbconvert_exporter": "python",
   "pygments_lexer": "ipython2",
   "version": "2.7.6"
  }
 },
 "nbformat": 4,
 "nbformat_minor": 0
}
